{
 "cells": [
  {
   "cell_type": "code",
   "execution_count": 1,
   "id": "e924841e",
   "metadata": {},
   "outputs": [],
   "source": [
    "import numpy as np              \n",
    "import matplotlib.pyplot as plt \n",
    "%matplotlib inline \n",
    "import pandas as pd             \n",
    "import seaborn as sns           \n",
    "import sklearn  "
   ]
  },
  {
   "cell_type": "markdown",
   "id": "ccb6f131",
   "metadata": {},
   "source": [
    "## 1. Загружаем данные"
   ]
  },
  {
   "cell_type": "code",
   "execution_count": 2,
   "id": "5b359ade",
   "metadata": {},
   "outputs": [],
   "source": [
    "url = 'https://raw.githubusercontent.com/PlotnikovArtem/MachineLearningPractice/main/runs.csv'\n",
    "data = pd.read_csv(url, delimiter='\\t',  engine='python')"
   ]
  },
  {
   "cell_type": "markdown",
   "id": "ab963b86",
   "metadata": {},
   "source": [
    "## 2. Обработка пропущеных значений"
   ]
  },
  {
   "cell_type": "code",
   "execution_count": 3,
   "id": "4dee4d75",
   "metadata": {},
   "outputs": [
    {
     "data": {
      "text/plain": [
       "race_id               0\n",
       "horse_no              0\n",
       "horse_id              0\n",
       "result                0\n",
       "won                   0\n",
       "lengths_behind        0\n",
       "horse_age             0\n",
       "horse_country         2\n",
       "horse_type            2\n",
       "horse_rating          0\n",
       "declared_weight       0\n",
       "actual_weight         0\n",
       "draw                  0\n",
       "finish_time           0\n",
       "win_odds              0\n",
       "place_odds         3735\n",
       "dtype: int64"
      ]
     },
     "execution_count": 3,
     "metadata": {},
     "output_type": "execute_result"
    }
   ],
   "source": [
    "data.isna().sum()"
   ]
  },
  {
   "cell_type": "markdown",
   "id": "32cbfd53",
   "metadata": {},
   "source": [
    "Заполним медианами пропущенные значения в столбцах, соответствующих числовым признакам:"
   ]
  },
  {
   "cell_type": "code",
   "execution_count": 4,
   "id": "303d9f16",
   "metadata": {},
   "outputs": [],
   "source": [
    "data.fillna(data.median(axis = 0), axis=0 , inplace=True)"
   ]
  },
  {
   "cell_type": "markdown",
   "id": "f2eb3311",
   "metadata": {},
   "source": [
    "Пропущенные значения в столбцах, соответствующих категориальным признакам, заполним модой:"
   ]
  },
  {
   "cell_type": "code",
   "execution_count": 5,
   "id": "ba2130b8",
   "metadata": {},
   "outputs": [
    {
     "data": {
      "text/plain": [
       "race_id            0\n",
       "horse_no           0\n",
       "horse_id           0\n",
       "result             0\n",
       "won                0\n",
       "lengths_behind     0\n",
       "horse_age          0\n",
       "horse_country      0\n",
       "horse_type         0\n",
       "horse_rating       0\n",
       "declared_weight    0\n",
       "actual_weight      0\n",
       "draw               0\n",
       "finish_time        0\n",
       "win_odds           0\n",
       "place_odds         0\n",
       "dtype: int64"
      ]
     },
     "execution_count": 5,
     "metadata": {},
     "output_type": "execute_result"
    }
   ],
   "source": [
    "data['horse_country'].fillna(data['horse_country'].mode().iloc[0], inplace=True)\n",
    "data['horse_type'].fillna(data['horse_type'].mode().iloc[0], inplace=True)\n",
    "data.isna().sum()"
   ]
  },
  {
   "cell_type": "markdown",
   "id": "e7104606",
   "metadata": {},
   "source": [
    "Столбцы 'horse_country' и 'horse_type' содержат категориальные значения. Пока они имеют тип 'Object'. Заменим тип на специальный, предназначенный для хранения категориальных значений:"
   ]
  },
  {
   "cell_type": "code",
   "execution_count": 6,
   "id": "df947c51",
   "metadata": {},
   "outputs": [],
   "source": [
    "data['horse_country'] = data['horse_country'].astype('category')\n",
    "data['horse_type'] = data['horse_type'].astype('category')"
   ]
  },
  {
   "cell_type": "code",
   "execution_count": 7,
   "id": "f00e7e3e",
   "metadata": {},
   "outputs": [
    {
     "data": {
      "text/html": [
       "<div>\n",
       "<style scoped>\n",
       "    .dataframe tbody tr th:only-of-type {\n",
       "        vertical-align: middle;\n",
       "    }\n",
       "\n",
       "    .dataframe tbody tr th {\n",
       "        vertical-align: top;\n",
       "    }\n",
       "\n",
       "    .dataframe thead th {\n",
       "        text-align: right;\n",
       "    }\n",
       "</style>\n",
       "<table border=\"1\" class=\"dataframe\">\n",
       "  <thead>\n",
       "    <tr style=\"text-align: right;\">\n",
       "      <th></th>\n",
       "      <th>horse_country</th>\n",
       "      <th>horse_type</th>\n",
       "    </tr>\n",
       "  </thead>\n",
       "  <tbody>\n",
       "    <tr>\n",
       "      <th>count</th>\n",
       "      <td>79447</td>\n",
       "      <td>79447</td>\n",
       "    </tr>\n",
       "    <tr>\n",
       "      <th>unique</th>\n",
       "      <td>16</td>\n",
       "      <td>9</td>\n",
       "    </tr>\n",
       "    <tr>\n",
       "      <th>top</th>\n",
       "      <td>AUS</td>\n",
       "      <td>Gelding</td>\n",
       "    </tr>\n",
       "    <tr>\n",
       "      <th>freq</th>\n",
       "      <td>29908</td>\n",
       "      <td>75505</td>\n",
       "    </tr>\n",
       "  </tbody>\n",
       "</table>\n",
       "</div>"
      ],
      "text/plain": [
       "       horse_country horse_type\n",
       "count          79447      79447\n",
       "unique            16          9\n",
       "top              AUS    Gelding\n",
       "freq           29908      75505"
      ]
     },
     "execution_count": 7,
     "metadata": {},
     "output_type": "execute_result"
    }
   ],
   "source": [
    "data.describe(include=['category'])"
   ]
  },
  {
   "cell_type": "markdown",
   "id": "45d36acf",
   "metadata": {},
   "source": [
    "## 3. Обработка категориальных признаков "
   ]
  },
  {
   "cell_type": "markdown",
   "id": "c7967fd1",
   "metadata": {},
   "source": [
    "К категориальным признакам 'horse_country' и 'horse_type' применим метод бинаризации:"
   ]
  },
  {
   "cell_type": "code",
   "execution_count": 8,
   "id": "62e4f775",
   "metadata": {},
   "outputs": [],
   "source": [
    "horse_country_dummies = pd.get_dummies(data['horse_country'])\n",
    "horse_type_dummies = pd.get_dummies(data['horse_type'])"
   ]
  },
  {
   "cell_type": "code",
   "execution_count": 9,
   "id": "11de31e4",
   "metadata": {},
   "outputs": [
    {
     "data": {
      "text/html": [
       "<div>\n",
       "<style scoped>\n",
       "    .dataframe tbody tr th:only-of-type {\n",
       "        vertical-align: middle;\n",
       "    }\n",
       "\n",
       "    .dataframe tbody tr th {\n",
       "        vertical-align: top;\n",
       "    }\n",
       "\n",
       "    .dataframe thead th {\n",
       "        text-align: right;\n",
       "    }\n",
       "</style>\n",
       "<table border=\"1\" class=\"dataframe\">\n",
       "  <thead>\n",
       "    <tr style=\"text-align: right;\">\n",
       "      <th></th>\n",
       "      <th>ARG</th>\n",
       "      <th>AUS</th>\n",
       "      <th>BRZ</th>\n",
       "      <th>CAN</th>\n",
       "      <th>FR</th>\n",
       "      <th>GB</th>\n",
       "      <th>GER</th>\n",
       "      <th>GR</th>\n",
       "      <th>IRE</th>\n",
       "      <th>ITY</th>\n",
       "      <th>JPN</th>\n",
       "      <th>NZ</th>\n",
       "      <th>SAF</th>\n",
       "      <th>SPA</th>\n",
       "      <th>USA</th>\n",
       "      <th>ZIM</th>\n",
       "    </tr>\n",
       "  </thead>\n",
       "  <tbody>\n",
       "    <tr>\n",
       "      <th>0</th>\n",
       "      <td>0</td>\n",
       "      <td>1</td>\n",
       "      <td>0</td>\n",
       "      <td>0</td>\n",
       "      <td>0</td>\n",
       "      <td>0</td>\n",
       "      <td>0</td>\n",
       "      <td>0</td>\n",
       "      <td>0</td>\n",
       "      <td>0</td>\n",
       "      <td>0</td>\n",
       "      <td>0</td>\n",
       "      <td>0</td>\n",
       "      <td>0</td>\n",
       "      <td>0</td>\n",
       "      <td>0</td>\n",
       "    </tr>\n",
       "    <tr>\n",
       "      <th>1</th>\n",
       "      <td>0</td>\n",
       "      <td>0</td>\n",
       "      <td>0</td>\n",
       "      <td>0</td>\n",
       "      <td>0</td>\n",
       "      <td>0</td>\n",
       "      <td>0</td>\n",
       "      <td>0</td>\n",
       "      <td>0</td>\n",
       "      <td>0</td>\n",
       "      <td>0</td>\n",
       "      <td>1</td>\n",
       "      <td>0</td>\n",
       "      <td>0</td>\n",
       "      <td>0</td>\n",
       "      <td>0</td>\n",
       "    </tr>\n",
       "    <tr>\n",
       "      <th>2</th>\n",
       "      <td>0</td>\n",
       "      <td>0</td>\n",
       "      <td>0</td>\n",
       "      <td>0</td>\n",
       "      <td>0</td>\n",
       "      <td>0</td>\n",
       "      <td>0</td>\n",
       "      <td>0</td>\n",
       "      <td>0</td>\n",
       "      <td>0</td>\n",
       "      <td>0</td>\n",
       "      <td>1</td>\n",
       "      <td>0</td>\n",
       "      <td>0</td>\n",
       "      <td>0</td>\n",
       "      <td>0</td>\n",
       "    </tr>\n",
       "    <tr>\n",
       "      <th>3</th>\n",
       "      <td>0</td>\n",
       "      <td>0</td>\n",
       "      <td>0</td>\n",
       "      <td>0</td>\n",
       "      <td>0</td>\n",
       "      <td>0</td>\n",
       "      <td>0</td>\n",
       "      <td>0</td>\n",
       "      <td>0</td>\n",
       "      <td>0</td>\n",
       "      <td>0</td>\n",
       "      <td>0</td>\n",
       "      <td>1</td>\n",
       "      <td>0</td>\n",
       "      <td>0</td>\n",
       "      <td>0</td>\n",
       "    </tr>\n",
       "    <tr>\n",
       "      <th>4</th>\n",
       "      <td>0</td>\n",
       "      <td>0</td>\n",
       "      <td>0</td>\n",
       "      <td>0</td>\n",
       "      <td>0</td>\n",
       "      <td>1</td>\n",
       "      <td>0</td>\n",
       "      <td>0</td>\n",
       "      <td>0</td>\n",
       "      <td>0</td>\n",
       "      <td>0</td>\n",
       "      <td>0</td>\n",
       "      <td>0</td>\n",
       "      <td>0</td>\n",
       "      <td>0</td>\n",
       "      <td>0</td>\n",
       "    </tr>\n",
       "  </tbody>\n",
       "</table>\n",
       "</div>"
      ],
      "text/plain": [
       "   ARG  AUS  BRZ  CAN  FR  GB  GER  GR  IRE  ITY  JPN  NZ  SAF  SPA  USA  ZIM\n",
       "0    0    1    0    0   0   0    0   0    0    0    0   0    0    0    0    0\n",
       "1    0    0    0    0   0   0    0   0    0    0    0   1    0    0    0    0\n",
       "2    0    0    0    0   0   0    0   0    0    0    0   1    0    0    0    0\n",
       "3    0    0    0    0   0   0    0   0    0    0    0   0    1    0    0    0\n",
       "4    0    0    0    0   0   1    0   0    0    0    0   0    0    0    0    0"
      ]
     },
     "execution_count": 9,
     "metadata": {},
     "output_type": "execute_result"
    }
   ],
   "source": [
    "horse_country_dummies.head()"
   ]
  },
  {
   "cell_type": "code",
   "execution_count": 10,
   "id": "177511a6",
   "metadata": {},
   "outputs": [
    {
     "data": {
      "text/html": [
       "<div>\n",
       "<style scoped>\n",
       "    .dataframe tbody tr th:only-of-type {\n",
       "        vertical-align: middle;\n",
       "    }\n",
       "\n",
       "    .dataframe tbody tr th {\n",
       "        vertical-align: top;\n",
       "    }\n",
       "\n",
       "    .dataframe thead th {\n",
       "        text-align: right;\n",
       "    }\n",
       "</style>\n",
       "<table border=\"1\" class=\"dataframe\">\n",
       "  <thead>\n",
       "    <tr style=\"text-align: right;\">\n",
       "      <th></th>\n",
       "      <th>Brown</th>\n",
       "      <th>Colt</th>\n",
       "      <th>Filly</th>\n",
       "      <th>Gelding</th>\n",
       "      <th>Grey</th>\n",
       "      <th>Horse</th>\n",
       "      <th>Mare</th>\n",
       "      <th>Rig</th>\n",
       "      <th>Roan</th>\n",
       "    </tr>\n",
       "  </thead>\n",
       "  <tbody>\n",
       "    <tr>\n",
       "      <th>0</th>\n",
       "      <td>0</td>\n",
       "      <td>0</td>\n",
       "      <td>0</td>\n",
       "      <td>1</td>\n",
       "      <td>0</td>\n",
       "      <td>0</td>\n",
       "      <td>0</td>\n",
       "      <td>0</td>\n",
       "      <td>0</td>\n",
       "    </tr>\n",
       "    <tr>\n",
       "      <th>1</th>\n",
       "      <td>0</td>\n",
       "      <td>0</td>\n",
       "      <td>0</td>\n",
       "      <td>1</td>\n",
       "      <td>0</td>\n",
       "      <td>0</td>\n",
       "      <td>0</td>\n",
       "      <td>0</td>\n",
       "      <td>0</td>\n",
       "    </tr>\n",
       "    <tr>\n",
       "      <th>2</th>\n",
       "      <td>0</td>\n",
       "      <td>0</td>\n",
       "      <td>0</td>\n",
       "      <td>1</td>\n",
       "      <td>0</td>\n",
       "      <td>0</td>\n",
       "      <td>0</td>\n",
       "      <td>0</td>\n",
       "      <td>0</td>\n",
       "    </tr>\n",
       "    <tr>\n",
       "      <th>3</th>\n",
       "      <td>0</td>\n",
       "      <td>0</td>\n",
       "      <td>0</td>\n",
       "      <td>1</td>\n",
       "      <td>0</td>\n",
       "      <td>0</td>\n",
       "      <td>0</td>\n",
       "      <td>0</td>\n",
       "      <td>0</td>\n",
       "    </tr>\n",
       "    <tr>\n",
       "      <th>4</th>\n",
       "      <td>0</td>\n",
       "      <td>0</td>\n",
       "      <td>0</td>\n",
       "      <td>1</td>\n",
       "      <td>0</td>\n",
       "      <td>0</td>\n",
       "      <td>0</td>\n",
       "      <td>0</td>\n",
       "      <td>0</td>\n",
       "    </tr>\n",
       "  </tbody>\n",
       "</table>\n",
       "</div>"
      ],
      "text/plain": [
       "   Brown  Colt  Filly  Gelding  Grey  Horse  Mare  Rig  Roan\n",
       "0      0     0      0        1     0      0     0    0     0\n",
       "1      0     0      0        1     0      0     0    0     0\n",
       "2      0     0      0        1     0      0     0    0     0\n",
       "3      0     0      0        1     0      0     0    0     0\n",
       "4      0     0      0        1     0      0     0    0     0"
      ]
     },
     "execution_count": 10,
     "metadata": {},
     "output_type": "execute_result"
    }
   ],
   "source": [
    "horse_type_dummies.head()"
   ]
  },
  {
   "cell_type": "markdown",
   "id": "00076580",
   "metadata": {},
   "source": [
    "Добавим эти dummy-столбцы к таблице и удалим столбцы horse_country и horse_type:"
   ]
  },
  {
   "cell_type": "code",
   "execution_count": 11,
   "id": "5638cac8",
   "metadata": {},
   "outputs": [],
   "source": [
    "data = pd.concat((data, horse_country_dummies), axis=1)\n",
    "data = pd.concat((data, horse_type_dummies), axis=1)\n",
    "data = data.drop(['horse_country', 'horse_type'], axis=1)"
   ]
  },
  {
   "cell_type": "code",
   "execution_count": 12,
   "id": "53b8be37",
   "metadata": {},
   "outputs": [
    {
     "data": {
      "text/html": [
       "<div>\n",
       "<style scoped>\n",
       "    .dataframe tbody tr th:only-of-type {\n",
       "        vertical-align: middle;\n",
       "    }\n",
       "\n",
       "    .dataframe tbody tr th {\n",
       "        vertical-align: top;\n",
       "    }\n",
       "\n",
       "    .dataframe thead th {\n",
       "        text-align: right;\n",
       "    }\n",
       "</style>\n",
       "<table border=\"1\" class=\"dataframe\">\n",
       "  <thead>\n",
       "    <tr style=\"text-align: right;\">\n",
       "      <th></th>\n",
       "      <th>race_id</th>\n",
       "      <th>horse_no</th>\n",
       "      <th>horse_id</th>\n",
       "      <th>result</th>\n",
       "      <th>won</th>\n",
       "      <th>lengths_behind</th>\n",
       "      <th>horse_age</th>\n",
       "      <th>horse_rating</th>\n",
       "      <th>declared_weight</th>\n",
       "      <th>actual_weight</th>\n",
       "      <th>...</th>\n",
       "      <th>ZIM</th>\n",
       "      <th>Brown</th>\n",
       "      <th>Colt</th>\n",
       "      <th>Filly</th>\n",
       "      <th>Gelding</th>\n",
       "      <th>Grey</th>\n",
       "      <th>Horse</th>\n",
       "      <th>Mare</th>\n",
       "      <th>Rig</th>\n",
       "      <th>Roan</th>\n",
       "    </tr>\n",
       "  </thead>\n",
       "  <tbody>\n",
       "    <tr>\n",
       "      <th>0</th>\n",
       "      <td>0</td>\n",
       "      <td>1</td>\n",
       "      <td>3917</td>\n",
       "      <td>10</td>\n",
       "      <td>0.0</td>\n",
       "      <td>8.00</td>\n",
       "      <td>3</td>\n",
       "      <td>60</td>\n",
       "      <td>1020.0</td>\n",
       "      <td>133</td>\n",
       "      <td>...</td>\n",
       "      <td>0</td>\n",
       "      <td>0</td>\n",
       "      <td>0</td>\n",
       "      <td>0</td>\n",
       "      <td>1</td>\n",
       "      <td>0</td>\n",
       "      <td>0</td>\n",
       "      <td>0</td>\n",
       "      <td>0</td>\n",
       "      <td>0</td>\n",
       "    </tr>\n",
       "    <tr>\n",
       "      <th>1</th>\n",
       "      <td>0</td>\n",
       "      <td>2</td>\n",
       "      <td>2157</td>\n",
       "      <td>8</td>\n",
       "      <td>0.0</td>\n",
       "      <td>5.75</td>\n",
       "      <td>3</td>\n",
       "      <td>60</td>\n",
       "      <td>980.0</td>\n",
       "      <td>133</td>\n",
       "      <td>...</td>\n",
       "      <td>0</td>\n",
       "      <td>0</td>\n",
       "      <td>0</td>\n",
       "      <td>0</td>\n",
       "      <td>1</td>\n",
       "      <td>0</td>\n",
       "      <td>0</td>\n",
       "      <td>0</td>\n",
       "      <td>0</td>\n",
       "      <td>0</td>\n",
       "    </tr>\n",
       "    <tr>\n",
       "      <th>2</th>\n",
       "      <td>0</td>\n",
       "      <td>3</td>\n",
       "      <td>858</td>\n",
       "      <td>7</td>\n",
       "      <td>0.0</td>\n",
       "      <td>4.75</td>\n",
       "      <td>3</td>\n",
       "      <td>60</td>\n",
       "      <td>1082.0</td>\n",
       "      <td>132</td>\n",
       "      <td>...</td>\n",
       "      <td>0</td>\n",
       "      <td>0</td>\n",
       "      <td>0</td>\n",
       "      <td>0</td>\n",
       "      <td>1</td>\n",
       "      <td>0</td>\n",
       "      <td>0</td>\n",
       "      <td>0</td>\n",
       "      <td>0</td>\n",
       "      <td>0</td>\n",
       "    </tr>\n",
       "    <tr>\n",
       "      <th>3</th>\n",
       "      <td>0</td>\n",
       "      <td>4</td>\n",
       "      <td>1853</td>\n",
       "      <td>9</td>\n",
       "      <td>0.0</td>\n",
       "      <td>6.25</td>\n",
       "      <td>3</td>\n",
       "      <td>60</td>\n",
       "      <td>1118.0</td>\n",
       "      <td>127</td>\n",
       "      <td>...</td>\n",
       "      <td>0</td>\n",
       "      <td>0</td>\n",
       "      <td>0</td>\n",
       "      <td>0</td>\n",
       "      <td>1</td>\n",
       "      <td>0</td>\n",
       "      <td>0</td>\n",
       "      <td>0</td>\n",
       "      <td>0</td>\n",
       "      <td>0</td>\n",
       "    </tr>\n",
       "    <tr>\n",
       "      <th>4</th>\n",
       "      <td>0</td>\n",
       "      <td>5</td>\n",
       "      <td>2796</td>\n",
       "      <td>6</td>\n",
       "      <td>0.0</td>\n",
       "      <td>3.75</td>\n",
       "      <td>3</td>\n",
       "      <td>60</td>\n",
       "      <td>972.0</td>\n",
       "      <td>131</td>\n",
       "      <td>...</td>\n",
       "      <td>0</td>\n",
       "      <td>0</td>\n",
       "      <td>0</td>\n",
       "      <td>0</td>\n",
       "      <td>1</td>\n",
       "      <td>0</td>\n",
       "      <td>0</td>\n",
       "      <td>0</td>\n",
       "      <td>0</td>\n",
       "      <td>0</td>\n",
       "    </tr>\n",
       "  </tbody>\n",
       "</table>\n",
       "<p>5 rows × 39 columns</p>\n",
       "</div>"
      ],
      "text/plain": [
       "   race_id  horse_no  horse_id  result  won  lengths_behind  horse_age  \\\n",
       "0        0         1      3917      10  0.0            8.00          3   \n",
       "1        0         2      2157       8  0.0            5.75          3   \n",
       "2        0         3       858       7  0.0            4.75          3   \n",
       "3        0         4      1853       9  0.0            6.25          3   \n",
       "4        0         5      2796       6  0.0            3.75          3   \n",
       "\n",
       "   horse_rating  declared_weight  actual_weight  ...  ZIM  Brown  Colt  Filly  \\\n",
       "0            60           1020.0            133  ...    0      0     0      0   \n",
       "1            60            980.0            133  ...    0      0     0      0   \n",
       "2            60           1082.0            132  ...    0      0     0      0   \n",
       "3            60           1118.0            127  ...    0      0     0      0   \n",
       "4            60            972.0            131  ...    0      0     0      0   \n",
       "\n",
       "   Gelding  Grey  Horse  Mare  Rig  Roan  \n",
       "0        1     0      0     0    0     0  \n",
       "1        1     0      0     0    0     0  \n",
       "2        1     0      0     0    0     0  \n",
       "3        1     0      0     0    0     0  \n",
       "4        1     0      0     0    0     0  \n",
       "\n",
       "[5 rows x 39 columns]"
      ]
     },
     "execution_count": 12,
     "metadata": {},
     "output_type": "execute_result"
    }
   ],
   "source": [
    "data.head()"
   ]
  },
  {
   "cell_type": "markdown",
   "id": "1a2c9429",
   "metadata": {},
   "source": [
    "## 4. Нормализация количественных признаков"
   ]
  },
  {
   "cell_type": "markdown",
   "id": "28a27f6c",
   "metadata": {},
   "source": [
    "Выполним стандартизацию всех признаков:"
   ]
  },
  {
   "cell_type": "code",
   "execution_count": 13,
   "id": "7739b3f1",
   "metadata": {},
   "outputs": [
    {
     "data": {
      "text/html": [
       "<div>\n",
       "<style scoped>\n",
       "    .dataframe tbody tr th:only-of-type {\n",
       "        vertical-align: middle;\n",
       "    }\n",
       "\n",
       "    .dataframe tbody tr th {\n",
       "        vertical-align: top;\n",
       "    }\n",
       "\n",
       "    .dataframe thead th {\n",
       "        text-align: right;\n",
       "    }\n",
       "</style>\n",
       "<table border=\"1\" class=\"dataframe\">\n",
       "  <thead>\n",
       "    <tr style=\"text-align: right;\">\n",
       "      <th></th>\n",
       "      <th>race_id</th>\n",
       "      <th>horse_no</th>\n",
       "      <th>horse_id</th>\n",
       "      <th>result</th>\n",
       "      <th>won</th>\n",
       "      <th>lengths_behind</th>\n",
       "      <th>horse_age</th>\n",
       "      <th>horse_rating</th>\n",
       "      <th>declared_weight</th>\n",
       "      <th>actual_weight</th>\n",
       "      <th>...</th>\n",
       "      <th>ZIM</th>\n",
       "      <th>Brown</th>\n",
       "      <th>Colt</th>\n",
       "      <th>Filly</th>\n",
       "      <th>Gelding</th>\n",
       "      <th>Grey</th>\n",
       "      <th>Horse</th>\n",
       "      <th>Mare</th>\n",
       "      <th>Rig</th>\n",
       "      <th>Roan</th>\n",
       "    </tr>\n",
       "  </thead>\n",
       "  <tbody>\n",
       "    <tr>\n",
       "      <th>count</th>\n",
       "      <td>7.944700e+04</td>\n",
       "      <td>7.944700e+04</td>\n",
       "      <td>7.944700e+04</td>\n",
       "      <td>7.944700e+04</td>\n",
       "      <td>7.944700e+04</td>\n",
       "      <td>7.944700e+04</td>\n",
       "      <td>7.944700e+04</td>\n",
       "      <td>7.944700e+04</td>\n",
       "      <td>7.944700e+04</td>\n",
       "      <td>7.944700e+04</td>\n",
       "      <td>...</td>\n",
       "      <td>7.944700e+04</td>\n",
       "      <td>7.944700e+04</td>\n",
       "      <td>7.944700e+04</td>\n",
       "      <td>7.944700e+04</td>\n",
       "      <td>7.944700e+04</td>\n",
       "      <td>7.944700e+04</td>\n",
       "      <td>7.944700e+04</td>\n",
       "      <td>7.944700e+04</td>\n",
       "      <td>7.944700e+04</td>\n",
       "      <td>7.944700e+04</td>\n",
       "    </tr>\n",
       "    <tr>\n",
       "      <th>mean</th>\n",
       "      <td>-5.303788e-15</td>\n",
       "      <td>-3.725292e-17</td>\n",
       "      <td>-4.205200e-16</td>\n",
       "      <td>2.369161e-16</td>\n",
       "      <td>1.800907e-16</td>\n",
       "      <td>-6.441268e-15</td>\n",
       "      <td>3.185956e-14</td>\n",
       "      <td>-3.872969e-14</td>\n",
       "      <td>-1.712356e-15</td>\n",
       "      <td>-3.874602e-15</td>\n",
       "      <td>...</td>\n",
       "      <td>-1.517767e-14</td>\n",
       "      <td>2.322265e-14</td>\n",
       "      <td>3.447295e-14</td>\n",
       "      <td>4.399669e-15</td>\n",
       "      <td>-2.126771e-14</td>\n",
       "      <td>5.236687e-15</td>\n",
       "      <td>-3.056130e-14</td>\n",
       "      <td>3.812651e-15</td>\n",
       "      <td>6.396766e-15</td>\n",
       "      <td>1.452883e-14</td>\n",
       "    </tr>\n",
       "    <tr>\n",
       "      <th>std</th>\n",
       "      <td>1.000000e+00</td>\n",
       "      <td>1.000000e+00</td>\n",
       "      <td>1.000000e+00</td>\n",
       "      <td>1.000000e+00</td>\n",
       "      <td>1.000000e+00</td>\n",
       "      <td>1.000000e+00</td>\n",
       "      <td>1.000000e+00</td>\n",
       "      <td>1.000000e+00</td>\n",
       "      <td>1.000000e+00</td>\n",
       "      <td>1.000000e+00</td>\n",
       "      <td>...</td>\n",
       "      <td>1.000000e+00</td>\n",
       "      <td>1.000000e+00</td>\n",
       "      <td>1.000000e+00</td>\n",
       "      <td>1.000000e+00</td>\n",
       "      <td>1.000000e+00</td>\n",
       "      <td>1.000000e+00</td>\n",
       "      <td>1.000000e+00</td>\n",
       "      <td>1.000000e+00</td>\n",
       "      <td>1.000000e+00</td>\n",
       "      <td>1.000000e+00</td>\n",
       "    </tr>\n",
       "    <tr>\n",
       "      <th>min</th>\n",
       "      <td>-1.731139e+00</td>\n",
       "      <td>-1.570348e+00</td>\n",
       "      <td>-1.728882e+00</td>\n",
       "      <td>-1.565099e+00</td>\n",
       "      <td>-2.949890e-01</td>\n",
       "      <td>-1.964817e-01</td>\n",
       "      <td>-1.527602e+00</td>\n",
       "      <td>-4.343844e+00</td>\n",
       "      <td>-6.607369e+00</td>\n",
       "      <td>-3.128962e+00</td>\n",
       "      <td>...</td>\n",
       "      <td>-1.229085e-02</td>\n",
       "      <td>-1.625020e-01</td>\n",
       "      <td>-6.207885e-02</td>\n",
       "      <td>-2.327075e-02</td>\n",
       "      <td>-4.376499e+00</td>\n",
       "      <td>-1.462950e-02</td>\n",
       "      <td>-1.181073e-01</td>\n",
       "      <td>-5.481488e-02</td>\n",
       "      <td>-4.406971e-02</td>\n",
       "      <td>-2.458727e-02</td>\n",
       "    </tr>\n",
       "    <tr>\n",
       "      <th>25%</th>\n",
       "      <td>-8.659383e-01</td>\n",
       "      <td>-7.726260e-01</td>\n",
       "      <td>-8.779350e-01</td>\n",
       "      <td>-7.609163e-01</td>\n",
       "      <td>-2.949890e-01</td>\n",
       "      <td>-1.295895e-01</td>\n",
       "      <td>-3.870437e-01</td>\n",
       "      <td>-8.808600e-02</td>\n",
       "      <td>-6.889370e-01</td>\n",
       "      <td>-7.500847e-01</td>\n",
       "      <td>...</td>\n",
       "      <td>-1.229085e-02</td>\n",
       "      <td>-1.625020e-01</td>\n",
       "      <td>-6.207885e-02</td>\n",
       "      <td>-2.327075e-02</td>\n",
       "      <td>2.284903e-01</td>\n",
       "      <td>-1.462950e-02</td>\n",
       "      <td>-1.181073e-01</td>\n",
       "      <td>-5.481488e-02</td>\n",
       "      <td>-4.406971e-02</td>\n",
       "      <td>-2.458727e-02</td>\n",
       "    </tr>\n",
       "    <tr>\n",
       "      <th>50%</th>\n",
       "      <td>3.530553e-04</td>\n",
       "      <td>2.509563e-02</td>\n",
       "      <td>3.599449e-03</td>\n",
       "      <td>4.326586e-02</td>\n",
       "      <td>-2.949890e-01</td>\n",
       "      <td>-6.269734e-02</td>\n",
       "      <td>-3.870437e-01</td>\n",
       "      <td>-8.808600e-02</td>\n",
       "      <td>-4.737260e-02</td>\n",
       "      <td>4.287431e-02</td>\n",
       "      <td>...</td>\n",
       "      <td>-1.229085e-02</td>\n",
       "      <td>-1.625020e-01</td>\n",
       "      <td>-6.207885e-02</td>\n",
       "      <td>-2.327075e-02</td>\n",
       "      <td>2.284903e-01</td>\n",
       "      <td>-1.462950e-02</td>\n",
       "      <td>-1.181073e-01</td>\n",
       "      <td>-5.481488e-02</td>\n",
       "      <td>-4.406971e-02</td>\n",
       "      <td>-2.458727e-02</td>\n",
       "    </tr>\n",
       "    <tr>\n",
       "      <th>75%</th>\n",
       "      <td>8.680082e-01</td>\n",
       "      <td>8.228172e-01</td>\n",
       "      <td>8.655269e-01</td>\n",
       "      <td>8.474481e-01</td>\n",
       "      <td>-2.949890e-01</td>\n",
       "      <td>1.905979e-02</td>\n",
       "      <td>-3.870437e-01</td>\n",
       "      <td>-8.808600e-02</td>\n",
       "      <td>6.583483e-01</td>\n",
       "      <td>8.358334e-01</td>\n",
       "      <td>...</td>\n",
       "      <td>-1.229085e-02</td>\n",
       "      <td>-1.625020e-01</td>\n",
       "      <td>-6.207885e-02</td>\n",
       "      <td>-2.327075e-02</td>\n",
       "      <td>2.284903e-01</td>\n",
       "      <td>-1.462950e-02</td>\n",
       "      <td>-1.181073e-01</td>\n",
       "      <td>-5.481488e-02</td>\n",
       "      <td>-4.406971e-02</td>\n",
       "      <td>-2.458727e-02</td>\n",
       "    </tr>\n",
       "    <tr>\n",
       "      <th>max</th>\n",
       "      <td>1.731845e+00</td>\n",
       "      <td>1.886446e+00</td>\n",
       "      <td>1.725101e+00</td>\n",
       "      <td>1.919691e+00</td>\n",
       "      <td>3.389915e+00</td>\n",
       "      <td>2.951852e+01</td>\n",
       "      <td>7.596867e+00</td>\n",
       "      <td>6.550897e+00</td>\n",
       "      <td>4.235070e+00</td>\n",
       "      <td>1.628792e+00</td>\n",
       "      <td>...</td>\n",
       "      <td>8.136031e+01</td>\n",
       "      <td>6.153691e+00</td>\n",
       "      <td>1.610834e+01</td>\n",
       "      <td>4.297187e+01</td>\n",
       "      <td>2.284903e-01</td>\n",
       "      <td>6.835418e+01</td>\n",
       "      <td>8.466770e+00</td>\n",
       "      <td>1.824299e+01</td>\n",
       "      <td>2.269104e+01</td>\n",
       "      <td>4.067094e+01</td>\n",
       "    </tr>\n",
       "  </tbody>\n",
       "</table>\n",
       "<p>8 rows × 39 columns</p>\n",
       "</div>"
      ],
      "text/plain": [
       "            race_id      horse_no      horse_id        result           won  \\\n",
       "count  7.944700e+04  7.944700e+04  7.944700e+04  7.944700e+04  7.944700e+04   \n",
       "mean  -5.303788e-15 -3.725292e-17 -4.205200e-16  2.369161e-16  1.800907e-16   \n",
       "std    1.000000e+00  1.000000e+00  1.000000e+00  1.000000e+00  1.000000e+00   \n",
       "min   -1.731139e+00 -1.570348e+00 -1.728882e+00 -1.565099e+00 -2.949890e-01   \n",
       "25%   -8.659383e-01 -7.726260e-01 -8.779350e-01 -7.609163e-01 -2.949890e-01   \n",
       "50%    3.530553e-04  2.509563e-02  3.599449e-03  4.326586e-02 -2.949890e-01   \n",
       "75%    8.680082e-01  8.228172e-01  8.655269e-01  8.474481e-01 -2.949890e-01   \n",
       "max    1.731845e+00  1.886446e+00  1.725101e+00  1.919691e+00  3.389915e+00   \n",
       "\n",
       "       lengths_behind     horse_age  horse_rating  declared_weight  \\\n",
       "count    7.944700e+04  7.944700e+04  7.944700e+04     7.944700e+04   \n",
       "mean    -6.441268e-15  3.185956e-14 -3.872969e-14    -1.712356e-15   \n",
       "std      1.000000e+00  1.000000e+00  1.000000e+00     1.000000e+00   \n",
       "min     -1.964817e-01 -1.527602e+00 -4.343844e+00    -6.607369e+00   \n",
       "25%     -1.295895e-01 -3.870437e-01 -8.808600e-02    -6.889370e-01   \n",
       "50%     -6.269734e-02 -3.870437e-01 -8.808600e-02    -4.737260e-02   \n",
       "75%      1.905979e-02 -3.870437e-01 -8.808600e-02     6.583483e-01   \n",
       "max      2.951852e+01  7.596867e+00  6.550897e+00     4.235070e+00   \n",
       "\n",
       "       actual_weight  ...           ZIM         Brown          Colt  \\\n",
       "count   7.944700e+04  ...  7.944700e+04  7.944700e+04  7.944700e+04   \n",
       "mean   -3.874602e-15  ... -1.517767e-14  2.322265e-14  3.447295e-14   \n",
       "std     1.000000e+00  ...  1.000000e+00  1.000000e+00  1.000000e+00   \n",
       "min    -3.128962e+00  ... -1.229085e-02 -1.625020e-01 -6.207885e-02   \n",
       "25%    -7.500847e-01  ... -1.229085e-02 -1.625020e-01 -6.207885e-02   \n",
       "50%     4.287431e-02  ... -1.229085e-02 -1.625020e-01 -6.207885e-02   \n",
       "75%     8.358334e-01  ... -1.229085e-02 -1.625020e-01 -6.207885e-02   \n",
       "max     1.628792e+00  ...  8.136031e+01  6.153691e+00  1.610834e+01   \n",
       "\n",
       "              Filly       Gelding          Grey         Horse          Mare  \\\n",
       "count  7.944700e+04  7.944700e+04  7.944700e+04  7.944700e+04  7.944700e+04   \n",
       "mean   4.399669e-15 -2.126771e-14  5.236687e-15 -3.056130e-14  3.812651e-15   \n",
       "std    1.000000e+00  1.000000e+00  1.000000e+00  1.000000e+00  1.000000e+00   \n",
       "min   -2.327075e-02 -4.376499e+00 -1.462950e-02 -1.181073e-01 -5.481488e-02   \n",
       "25%   -2.327075e-02  2.284903e-01 -1.462950e-02 -1.181073e-01 -5.481488e-02   \n",
       "50%   -2.327075e-02  2.284903e-01 -1.462950e-02 -1.181073e-01 -5.481488e-02   \n",
       "75%   -2.327075e-02  2.284903e-01 -1.462950e-02 -1.181073e-01 -5.481488e-02   \n",
       "max    4.297187e+01  2.284903e-01  6.835418e+01  8.466770e+00  1.824299e+01   \n",
       "\n",
       "                Rig          Roan  \n",
       "count  7.944700e+04  7.944700e+04  \n",
       "mean   6.396766e-15  1.452883e-14  \n",
       "std    1.000000e+00  1.000000e+00  \n",
       "min   -4.406971e-02 -2.458727e-02  \n",
       "25%   -4.406971e-02 -2.458727e-02  \n",
       "50%   -4.406971e-02 -2.458727e-02  \n",
       "75%   -4.406971e-02 -2.458727e-02  \n",
       "max    2.269104e+01  4.067094e+01  \n",
       "\n",
       "[8 rows x 39 columns]"
      ]
     },
     "execution_count": 13,
     "metadata": {},
     "output_type": "execute_result"
    }
   ],
   "source": [
    "data_stand = (data - data.mean(axis = 0))/data.std(axis = 0)\n",
    "data_stand.describe()"
   ]
  },
  {
   "cell_type": "markdown",
   "id": "0ff6fc6a",
   "metadata": {},
   "source": [
    "## 5. Отбор признаков"
   ]
  },
  {
   "cell_type": "code",
   "execution_count": 16,
   "id": "f8e5999a",
   "metadata": {},
   "outputs": [],
   "source": [
    "X = data_stand.drop(['won'], axis=1)\n",
    "y = data['won']"
   ]
  },
  {
   "cell_type": "code",
   "execution_count": 140,
   "id": "55a6f81a",
   "metadata": {},
   "outputs": [
    {
     "data": {
      "text/plain": [
       "(71502, 7945)"
      ]
     },
     "execution_count": 140,
     "metadata": {},
     "output_type": "execute_result"
    }
   ],
   "source": [
    "from sklearn.model_selection import train_test_split\n",
    "X_train, X_test, y_train, y_test = train_test_split(X, y, test_size = 0.1, random_state = 7)\n",
    "\n",
    "N_train, _ = X_train.shape \n",
    "N_test,  _ = X_test.shape \n",
    "\n",
    "N_train, N_test"
   ]
  },
  {
   "cell_type": "markdown",
   "id": "f99599e4",
   "metadata": {},
   "source": [
    "## 6. Обучаем классификатор"
   ]
  },
  {
   "cell_type": "code",
   "execution_count": 141,
   "id": "50c442e0",
   "metadata": {},
   "outputs": [],
   "source": [
    "from sklearn.neural_network import MLPClassifier"
   ]
  },
  {
   "cell_type": "markdown",
   "id": "87352518",
   "metadata": {},
   "source": [
    "Проверка качества при одном скрытом слое"
   ]
  },
  {
   "cell_type": "code",
   "execution_count": 142,
   "id": "628fa274",
   "metadata": {},
   "outputs": [
    {
     "data": {
      "text/plain": [
       "(0.0, 0.0002517306482064191)"
      ]
     },
     "execution_count": 142,
     "metadata": {},
     "output_type": "execute_result"
    }
   ],
   "source": [
    "mlp_model = MLPClassifier(hidden_layer_sizes = (12,),\n",
    "                          solver = 'lbfgs', activation = 'relu', random_state = 42)\n",
    "\n",
    "mlp_model.fit(X_train, y_train)\n",
    "\n",
    "y_train_pred = mlp_model.predict(X_train)\n",
    "y_test_pred = mlp_model.predict(X_test)\n",
    "\n",
    "np.mean(y_train != y_train_pred), np.mean(y_test != y_test_pred)"
   ]
  },
  {
   "cell_type": "markdown",
   "id": "808851db",
   "metadata": {},
   "source": [
    "Проверка качества при двух скрытых слоях"
   ]
  },
  {
   "cell_type": "code",
   "execution_count": 143,
   "id": "c8ba3cc8",
   "metadata": {
    "scrolled": true
   },
   "outputs": [
    {
     "data": {
      "text/plain": [
       "(0.0, 0.0002517306482064191)"
      ]
     },
     "execution_count": 143,
     "metadata": {},
     "output_type": "execute_result"
    }
   ],
   "source": [
    "mlp_model = MLPClassifier(hidden_layer_sizes = (12,20,), \n",
    "                          solver = 'lbfgs', activation = 'logistic', random_state = 42)\n",
    "mlp_model.fit(X_train, y_train)\n",
    "\n",
    "y_train_pred = mlp_model.predict(X_train)\n",
    "y_test_pred = mlp_model.predict(X_test)\n",
    "\n",
    "np.mean(y_train != y_train_pred), np.mean(y_test != y_test_pred)"
   ]
  },
  {
   "cell_type": "markdown",
   "id": "344cdc51",
   "metadata": {},
   "source": [
    "## 7. Зависимость ошибки от параметра alpha"
   ]
  },
  {
   "cell_type": "markdown",
   "id": "364fca85",
   "metadata": {},
   "source": [
    "### Для одного скрытого слоя: "
   ]
  },
  {
   "cell_type": "code",
   "execution_count": 144,
   "id": "83c58993",
   "metadata": {},
   "outputs": [],
   "source": [
    "alpha_arr = np.logspace(-3, 2, 21)\n",
    "test_err = []\n",
    "train_err = []\n",
    "for alpha in alpha_arr:\n",
    "    mlp_model = MLPClassifier(alpha = alpha, hidden_layer_sizes = (12,),\n",
    "                              solver = 'lbfgs', activation = 'logistic', max_iter = 1000, random_state = 42)\n",
    "    mlp_model.fit(X_train, y_train)\n",
    "\n",
    "    y_train_pred = mlp_model.predict(X_train)\n",
    "    y_test_pred = mlp_model.predict(X_test)\n",
    "\n",
    "    train_err.append(np.mean(y_train != y_train_pred))\n",
    "    test_err.append(np.mean(y_test != y_test_pred))"
   ]
  },
  {
   "cell_type": "code",
   "execution_count": 145,
   "id": "8c98c525",
   "metadata": {},
   "outputs": [
    {
     "data": {
      "image/png": "[encoded data removed]",
      "text/plain": [
       "<Figure size 432x288 with 1 Axes>"
      ]
     },
     "metadata": {
      "needs_background": "light"
     },
     "output_type": "display_data"
    }
   ],
   "source": [
    "plt.semilogx(alpha_arr, train_err, 'r-o', label = 'train')\n",
    "plt.semilogx(alpha_arr, test_err, 'b-o', label = 'test')\n",
    "plt.xlim([np.min(alpha_arr), np.max(alpha_arr)])\n",
    "\n",
    "plt.title('Error vs. alpha')\n",
    "plt.xlabel('alpha')\n",
    "plt.ylabel('error')\n",
    "plt.legend()\n",
    "pass"
   ]
  },
  {
   "cell_type": "markdown",
   "id": "b4582e5d",
   "metadata": {},
   "source": [
    "Из графика видно, что переобучения и недообучения не наблюдается, и ошибка на тестовой выборке перестает превышать ошибки на обучающей при alpha > 1,77"
   ]
  },
  {
   "cell_type": "markdown",
   "id": "d2cc65ce",
   "metadata": {},
   "source": [
    "Минимальное значение ошибки:"
   ]
  },
  {
   "cell_type": "code",
   "execution_count": 146,
   "id": "3517f465",
   "metadata": {},
   "outputs": [
    {
     "name": "stdout",
     "output_type": "stream",
     "text": [
      "0.0 0.0\n"
     ]
    }
   ],
   "source": [
    "min_train_err = np.min(train_err)\n",
    "min_test_err = np.min(test_err)\n",
    "print(min_train_err, min_test_err)"
   ]
  },
  {
   "cell_type": "markdown",
   "id": "50310d74",
   "metadata": {},
   "source": [
    "Оптимальное значение alpha:"
   ]
  },
  {
   "cell_type": "code",
   "execution_count": 147,
   "id": "82c23c0a",
   "metadata": {},
   "outputs": [
    {
     "name": "stdout",
     "output_type": "stream",
     "text": [
      "[  1.77827941   3.16227766   5.62341325  10.          17.7827941\n",
      "  31.6227766   56.23413252 100.        ]\n"
     ]
    }
   ],
   "source": [
    "alpha_opt = alpha_arr[test_err == min_test_err]\n",
    "print(alpha_opt)"
   ]
  },
  {
   "cell_type": "markdown",
   "id": "0df1e7c6",
   "metadata": {},
   "source": [
    "Т.к. получилось больше одного оптимального значения alpha, возьмем первый"
   ]
  },
  {
   "cell_type": "code",
   "execution_count": 148,
   "id": "b880a2f9",
   "metadata": {},
   "outputs": [],
   "source": [
    "alpha_opt_one = alpha_opt[0]"
   ]
  },
  {
   "cell_type": "markdown",
   "id": "7b9093ec",
   "metadata": {},
   "source": [
    "### Для двух скрытых слоев:"
   ]
  },
  {
   "cell_type": "code",
   "execution_count": 149,
   "id": "d78da291",
   "metadata": {},
   "outputs": [],
   "source": [
    "alpha_arr = np.logspace(-3, 2, 21)\n",
    "test_err = []\n",
    "train_err = []\n",
    "for alpha in alpha_arr:\n",
    "    mlp_model = MLPClassifier(alpha = alpha, hidden_layer_sizes = (12,20,),\n",
    "                              solver = 'lbfgs', activation = 'logistic', max_iter = 1000, random_state = 42)\n",
    "    mlp_model.fit(X_train, y_train)\n",
    "\n",
    "    y_train_pred = mlp_model.predict(X_train)\n",
    "    y_test_pred = mlp_model.predict(X_test)\n",
    "\n",
    "    train_err.append(np.mean(y_train != y_train_pred))\n",
    "    test_err.append(np.mean(y_test != y_test_pred))"
   ]
  },
  {
   "cell_type": "code",
   "execution_count": 150,
   "id": "544c0a7e",
   "metadata": {},
   "outputs": [
    {
     "data": {
      "image/png": "[encoded data removed]",
      "text/plain": [
       "<Figure size 432x288 with 1 Axes>"
      ]
     },
     "metadata": {
      "needs_background": "light"
     },
     "output_type": "display_data"
    }
   ],
   "source": [
    "plt.semilogx(alpha_arr, train_err, 'r-o', label = 'train')\n",
    "plt.semilogx(alpha_arr, test_err, 'b-o', label = 'test')\n",
    "plt.xlim([np.min(alpha_arr), np.max(alpha_arr)])\n",
    "\n",
    "plt.title('Error vs. alpha')\n",
    "plt.xlabel('alpha')\n",
    "plt.ylabel('error')\n",
    "plt.legend()\n",
    "pass"
   ]
  },
  {
   "cell_type": "markdown",
   "id": "b823bdf7",
   "metadata": {},
   "source": [
    "Из графика видно, что переобучения и недообучения не наблюдается, и наблюдается значительное колебание величины ошибки. При увеличении значения alpha ситуация \"выравнивается\"."
   ]
  },
  {
   "cell_type": "markdown",
   "id": "c5a9c931",
   "metadata": {},
   "source": [
    "Минимальное значение ошибки:"
   ]
  },
  {
   "cell_type": "code",
   "execution_count": 151,
   "id": "ac26999d",
   "metadata": {},
   "outputs": [
    {
     "name": "stdout",
     "output_type": "stream",
     "text": [
      "0.0 0.0\n"
     ]
    }
   ],
   "source": [
    "min_train_err = np.min(train_err)\n",
    "min_test_err = np.min(test_err)\n",
    "print(min_train_err, min_test_err)"
   ]
  },
  {
   "cell_type": "markdown",
   "id": "b4ab9560",
   "metadata": {},
   "source": [
    "Оптимальное значение alpha:"
   ]
  },
  {
   "cell_type": "code",
   "execution_count": 152,
   "id": "f48487dd",
   "metadata": {},
   "outputs": [
    {
     "name": "stdout",
     "output_type": "stream",
     "text": [
      "[  0.31622777   1.           5.62341325  10.          17.7827941\n",
      "  31.6227766   56.23413252 100.        ]\n"
     ]
    }
   ],
   "source": [
    "alpha_opt = alpha_arr[test_err == min_test_err]\n",
    "print(alpha_opt)"
   ]
  },
  {
   "cell_type": "markdown",
   "id": "424d131f",
   "metadata": {},
   "source": [
    "Т.к. получилось больше одного оптимального значения alpha, возьмем первый"
   ]
  },
  {
   "cell_type": "code",
   "execution_count": 153,
   "id": "7dd62bd5",
   "metadata": {},
   "outputs": [],
   "source": [
    "alpha_opt_two = alpha_opt[0]"
   ]
  },
  {
   "cell_type": "markdown",
   "id": "0545be6e",
   "metadata": {},
   "source": [
    "## Классификатор при оптимальном значении alpha"
   ]
  },
  {
   "cell_type": "markdown",
   "id": "0bce4054",
   "metadata": {},
   "source": [
    "### При одном срытом слое:"
   ]
  },
  {
   "cell_type": "code",
   "execution_count": 154,
   "id": "38b8ea6a",
   "metadata": {},
   "outputs": [
    {
     "name": "stdout",
     "output_type": "stream",
     "text": [
      "0.0\n",
      "0.0\n"
     ]
    }
   ],
   "source": [
    "mlp_model = MLPClassifier(alpha = alpha_opt_one, hidden_layer_sizes = (12,),\n",
    "                          solver = 'lbfgs', activation = 'logistic', random_state = 42)\n",
    "\n",
    "mlp_model.fit(X_train, y_train)\n",
    "\n",
    "y_train_pred = mlp_model.predict(X_train)\n",
    "y_test_pred = mlp_model.predict(X_test)\n",
    "\n",
    "print(np.mean(y_train != y_train_pred))\n",
    "print(np.mean(y_test != y_test_pred))"
   ]
  },
  {
   "cell_type": "markdown",
   "id": "de61fb0a",
   "metadata": {},
   "source": [
    "### При двух скрытых слоях:"
   ]
  },
  {
   "cell_type": "code",
   "execution_count": 155,
   "id": "2a9e45e6",
   "metadata": {},
   "outputs": [
    {
     "name": "stdout",
     "output_type": "stream",
     "text": [
      "0.0\n",
      "0.0\n"
     ]
    }
   ],
   "source": [
    "mlp_model = MLPClassifier(alpha = alpha_opt_two, hidden_layer_sizes = (12,20,),\n",
    "                          solver = 'lbfgs', activation = 'logistic', random_state = 42)\n",
    "\n",
    "mlp_model.fit(X_train, y_train)\n",
    "\n",
    "y_train_pred = mlp_model.predict(X_train)\n",
    "y_test_pred = mlp_model.predict(X_test)\n",
    "\n",
    "print(np.mean(y_train != y_train_pred))\n",
    "print(np.mean(y_test != y_test_pred))"
   ]
  },
  {
   "cell_type": "markdown",
   "id": "2c27f0c6",
   "metadata": {},
   "source": [
    "## 8. Зависимость ошибки от количества нейронов"
   ]
  },
  {
   "cell_type": "markdown",
   "id": "218dc1c8",
   "metadata": {},
   "source": [
    "### При одном скрытом слое:"
   ]
  },
  {
   "cell_type": "code",
   "execution_count": 156,
   "id": "fb90f6ab",
   "metadata": {},
   "outputs": [],
   "source": [
    "neuron_numbers = np.logspace(1, 2, 10)\n",
    "neuron_numbers = neuron_numbers.astype('int')\n",
    "test_err = []\n",
    "train_err = []\n",
    "for neuron_number in neuron_numbers:\n",
    "    mlp_model = MLPClassifier(alpha = alpha_opt_one, hidden_layer_sizes = (neuron_number,),\n",
    "                          solver = 'lbfgs', activation = 'logistic', random_state = 42, max_iter = 1000)\n",
    "    \n",
    "    mlp_model.fit(X_train, y_train)\n",
    "\n",
    "    y_train_pred = mlp_model.predict(X_train)\n",
    "    y_test_pred = mlp_model.predict(X_test)\n",
    "\n",
    "    train_err.append(np.mean(y_train != y_train_pred))\n",
    "    test_err.append(np.mean(y_test != y_test_pred))"
   ]
  },
  {
   "cell_type": "code",
   "execution_count": 157,
   "id": "c7575055",
   "metadata": {},
   "outputs": [
    {
     "data": {
      "image/png": "[encoded data removed]",
      "text/plain": [
       "<Figure size 432x288 with 1 Axes>"
      ]
     },
     "metadata": {
      "needs_background": "light"
     },
     "output_type": "display_data"
    }
   ],
   "source": [
    "plt.semilogx(neuron_numbers, train_err, 'r-o', label = 'train')\n",
    "plt.semilogx(neuron_numbers, test_err, 'b-o', label = 'test')\n",
    "plt.xlim([np.min(neuron_numbers), np.max(neuron_numbers)])\n",
    "\n",
    "plt.title('Error vs. neuron number')\n",
    "plt.xlabel('neuron number')\n",
    "plt.ylabel('error')\n",
    "plt.legend()\n",
    "pass"
   ]
  },
  {
   "cell_type": "markdown",
   "id": "d1974a5f",
   "metadata": {},
   "source": [
    "Из графика видно, что количество нейронов не влияет на значение ошибки"
   ]
  },
  {
   "cell_type": "markdown",
   "id": "51fff221",
   "metadata": {},
   "source": [
    "Минимальное значение ошибки:"
   ]
  },
  {
   "cell_type": "code",
   "execution_count": 160,
   "id": "35f18dbf",
   "metadata": {},
   "outputs": [
    {
     "name": "stdout",
     "output_type": "stream",
     "text": [
      "0.0 0.0\n"
     ]
    }
   ],
   "source": [
    "min_train_err = np.min(train_err)\n",
    "min_test_err = np.min(test_err)\n",
    "print(min_train_err, min_test_err)"
   ]
  },
  {
   "cell_type": "markdown",
   "id": "51ce2090",
   "metadata": {},
   "source": [
    "Оптимальное значение neuron number:"
   ]
  },
  {
   "cell_type": "code",
   "execution_count": 170,
   "id": "a6657e35",
   "metadata": {},
   "outputs": [],
   "source": [
    "neuron_number_opt_one = neuron_numbers[test_err == min_test_err]\n",
    "neuron_number_opt_one = neuron_number_opt_one[0]"
   ]
  },
  {
   "cell_type": "markdown",
   "id": "d9a14ded",
   "metadata": {},
   "source": [
    "### При двух срытых слоях:"
   ]
  },
  {
   "cell_type": "code",
   "execution_count": 162,
   "id": "eb7d0ef4",
   "metadata": {},
   "outputs": [],
   "source": [
    "neuron_numbers = np.logspace(1, 2, 10)\n",
    "neuron_numbers = neuron_numbers.astype('int')\n",
    "test_err = []\n",
    "train_err = []\n",
    "for neuron_number in neuron_numbers:\n",
    "    mlp_model = MLPClassifier(alpha = alpha_opt_two, hidden_layer_sizes = (neuron_number, neuron_number),\n",
    "                          solver = 'lbfgs', activation = 'logistic', random_state = 42, max_iter = 1000)\n",
    "    \n",
    "    mlp_model.fit(X_train, y_train)\n",
    "\n",
    "    y_train_pred = mlp_model.predict(X_train)\n",
    "    y_test_pred = mlp_model.predict(X_test)\n",
    "\n",
    "    train_err.append(np.mean(y_train != y_train_pred))\n",
    "    test_err.append(np.mean(y_test != y_test_pred))"
   ]
  },
  {
   "cell_type": "code",
   "execution_count": 163,
   "id": "23920fd9",
   "metadata": {},
   "outputs": [
    {
     "data": {
      "image/png": "[encoded data removed]",
      "text/plain": [
       "<Figure size 432x288 with 1 Axes>"
      ]
     },
     "metadata": {
      "needs_background": "light"
     },
     "output_type": "display_data"
    }
   ],
   "source": [
    "plt.semilogx(neuron_numbers, train_err, 'r-o', label = 'train')\n",
    "plt.semilogx(neuron_numbers, test_err, 'b-o', label = 'test')\n",
    "plt.xlim([np.min(neuron_numbers), np.max(neuron_numbers)])\n",
    "\n",
    "plt.title('Error vs. neuron number')\n",
    "plt.xlabel('neuron number')\n",
    "plt.ylabel('error')\n",
    "plt.legend()\n",
    "pass"
   ]
  },
  {
   "cell_type": "markdown",
   "id": "40713867",
   "metadata": {},
   "source": [
    "Из графика видно, что наблюдается значительное колебание величины ошибки, но есть некоторые значения neuron number при которых значение ошибок на тестовой и обучающей выборках совпадают."
   ]
  },
  {
   "cell_type": "markdown",
   "id": "6686e104",
   "metadata": {},
   "source": [
    "Минимальное значение ошибки:"
   ]
  },
  {
   "cell_type": "code",
   "execution_count": 164,
   "id": "8d4b3ab9",
   "metadata": {},
   "outputs": [
    {
     "name": "stdout",
     "output_type": "stream",
     "text": [
      "0.0 0.0\n"
     ]
    }
   ],
   "source": [
    "min_train_err = np.min(train_err)\n",
    "min_test_err = np.min(test_err)\n",
    "print(min_train_err, min_test_err)"
   ]
  },
  {
   "cell_type": "markdown",
   "id": "407bb25d",
   "metadata": {},
   "source": [
    "Оптимальное значение neuron number:"
   ]
  },
  {
   "cell_type": "code",
   "execution_count": 169,
   "id": "dedad514",
   "metadata": {},
   "outputs": [],
   "source": [
    "neuron_number_opt_two = neuron_numbers[test_err == min_test_err]\n",
    "neuron_number_opt_two = neuron_number_opt_two[0]"
   ]
  },
  {
   "cell_type": "markdown",
   "id": "b899ddd3",
   "metadata": {},
   "source": [
    "## Классификатор при оптимальном значении числа нейронов"
   ]
  },
  {
   "cell_type": "markdown",
   "id": "b750dc61",
   "metadata": {},
   "source": [
    "### При одном скрытом слое:"
   ]
  },
  {
   "cell_type": "code",
   "execution_count": 171,
   "id": "6e98d091",
   "metadata": {},
   "outputs": [
    {
     "data": {
      "text/plain": [
       "(0.0, 0.0)"
      ]
     },
     "execution_count": 171,
     "metadata": {},
     "output_type": "execute_result"
    }
   ],
   "source": [
    "mlp_model = MLPClassifier(alpha = alpha_opt_one, hidden_layer_sizes = (neuron_number_opt_one, neuron_number_opt_one),\n",
    "                          solver = 'lbfgs', activation = 'logistic', random_state = 42, max_iter=1000)\n",
    "\n",
    "mlp_model.fit(X_train, y_train)\n",
    "\n",
    "y_train_pred = mlp_model.predict(X_train)\n",
    "y_test_pred = mlp_model.predict(X_test)\n",
    "\n",
    "np.mean(y_train != y_train_pred), np.mean(y_test != y_test_pred)"
   ]
  },
  {
   "cell_type": "markdown",
   "id": "9e85cd1a",
   "metadata": {},
   "source": [
    "### При двух срытых слоях:"
   ]
  },
  {
   "cell_type": "code",
   "execution_count": 172,
   "id": "e54d7192",
   "metadata": {},
   "outputs": [
    {
     "data": {
      "text/plain": [
       "(0.0, 0.0)"
      ]
     },
     "execution_count": 172,
     "metadata": {},
     "output_type": "execute_result"
    }
   ],
   "source": [
    "mlp_model = MLPClassifier(alpha = alpha_opt_one, hidden_layer_sizes = (neuron_number_opt_two, neuron_number_opt_two),\n",
    "                          solver = 'lbfgs', activation = 'logistic', random_state = 42, max_iter=1000)\n",
    "\n",
    "mlp_model.fit(X_train, y_train)\n",
    "\n",
    "y_train_pred = mlp_model.predict(X_train)\n",
    "y_test_pred = mlp_model.predict(X_test)\n",
    "\n",
    "np.mean(y_train != y_train_pred), np.mean(y_test != y_test_pred)"
   ]
  },
  {
   "cell_type": "markdown",
   "id": "7704dfd8",
   "metadata": {},
   "source": [
    "## 10. Общие выводы"
   ]
  },
  {
   "cell_type": "markdown",
   "id": "c0b63059",
   "metadata": {},
   "source": [
    "Изходя из полученых решений, можно сделать следующие выводы:\n",
    "\n",
    "1. При увелечении параметра alpha значение ошибки уменьшается\n",
    "2. Для данной задачи увелечении количества нейронов не влияет на уменьшение ошибки"
   ]
  }
 ],
 "metadata": {
  "kernelspec": {
   "display_name": "Python 3",
   "language": "python",
   "name": "python3"
  },
  "language_info": {
   "codemirror_mode": {
    "name": "ipython",
    "version": 3
   },
   "file_extension": ".py",
   "mimetype": "text/x-python",
   "name": "python",
   "nbconvert_exporter": "python",
   "pygments_lexer": "ipython3",
   "version": "3.8.8"
  }
 },
 "nbformat": 4,
 "nbformat_minor": 5
}
